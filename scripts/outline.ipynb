{
 "cells": [
  {
   "cell_type": "code",
   "execution_count": 4,
   "metadata": {},
   "outputs": [
    {
     "name": "stdout",
     "output_type": "stream",
     "text": [
      "The dotenv extension is already loaded. To reload it, use:\n",
      "  %reload_ext dotenv\n"
     ]
    },
    {
     "name": "stderr",
     "output_type": "stream",
     "text": [
      "/home/yangk/.local/lib/python3.10/site-packages/tqdm/auto.py:21: TqdmWarning: IProgress not found. Please update jupyter and ipywidgets. See https://ipywidgets.readthedocs.io/en/stable/user_install.html\n",
      "  from .autonotebook import tqdm as notebook_tqdm\n"
     ]
    }
   ],
   "source": [
    "%load_ext autoreload\n",
    "%autoreload 2\n",
    "# %load_ext dotenv\n",
    "# %dotenv /home/yangk/yizhou/.env\n",
    "\n",
    "\n",
    "from thoughtsculpt.chatGPT_API import load_model\n",
    "from thoughtsculpt.data.interestingness_dataset import load_dataset_from_disk\n",
    "from thoughtsculpt.evaluation.content_evaluator import T5_Evaluator\n",
    "from thoughtsculpt.model.improver import ContentImprover\n"
   ]
  },
  {
   "cell_type": "code",
   "execution_count": 5,
   "metadata": {},
   "outputs": [
    {
     "name": "stderr",
     "output_type": "stream",
     "text": [
      "You are using the default legacy behaviour of the <class 'transformers.models.t5.tokenization_t5.T5Tokenizer'>. This is expected, and simply means that the `legacy` (previous) behavior will be used so nothing changes for you. If you want to use the new behaviour, set `legacy=False`. This should only be set if you understand what it means, and thoroughly read the reason why this was added as explained in https://github.com/huggingface/transformers/pull/24565\n",
      "Special tokens have been added in the vocabulary, make sure the associated word embeddings are fine-tuned or trained.\n"
     ]
    }
   ],
   "source": [
    "t5_model_name = \"t5-base\"\n",
    "ckpt_dir = \"../thoughtsculpt/ckpts/prediction_interestingness-contrastive-t5-base-add_star/checkpoint-2820\"\n",
    "content_evaluator = T5_Evaluator(t5_model_name, ckpt_dir=ckpt_dir) \n"
   ]
  },
  {
   "cell_type": "code",
   "execution_count": 6,
   "metadata": {},
   "outputs": [],
   "source": [
    "combined_ds = load_dataset_from_disk(\"../thoughtsculpt/datasets/outlines/interesting\")\n",
    "train_size = int(0.9 * len(combined_ds))\n",
    "test_size = len(combined_ds) - train_size\n",
    "train_ds = combined_ds.select(range(train_size))\n",
    "val_ds = combined_ds.select(range(train_size, train_size + test_size))"
   ]
  },
  {
   "cell_type": "code",
   "execution_count": 7,
   "metadata": {},
   "outputs": [
    {
     "data": {
      "text/plain": [
       "['The girl realizes that the man is attempting to molest the child.',\n",
       " 'The girl intervenes and successfully saves the child from the molester.',\n",
       " 'The girl comforts the scared child and ensures their safety.',\n",
       " 'The police agree to let the girl help and assign her a detective to work with.',\n",
       " 'The girl undergoes training and learns investigative techniques from the detective.',\n",
       " 'The girl and the detective start gathering information and evidence about the molester.',\n",
       " 'The girl and the detective devise a plan to catch the molester, involving a bait operation.']"
      ]
     },
     "execution_count": 7,
     "metadata": {},
     "output_type": "execute_result"
    }
   ],
   "source": [
    "val_ds[10][\"original_outlines\"]"
   ]
  },
  {
   "cell_type": "code",
   "execution_count": 11,
   "metadata": {},
   "outputs": [],
   "source": [
    "from thoughtsculpt.model.simulator import MCTS, DFS, ToT, COT\n",
    "model_name = \"gpt-3.5-turbo\"#\"gpt-4-0125-preview\" #\"gpt-3.5-turbo\"\n",
    "model = load_model(model_name=model_name, temp=0.7)\n",
    "content_improver = ContentImprover(model=model, evaluator=None, solver_class=MCTS)\n"
   ]
  },
  {
   "cell_type": "code",
   "execution_count": 12,
   "metadata": {},
   "outputs": [],
   "source": [
    "idx = 0\n",
    "original_outlines = val_ds[idx][\"original_outlines\"]"
   ]
  },
  {
   "cell_type": "code",
   "execution_count": 16,
   "metadata": {},
   "outputs": [
    {
     "name": "stdout",
     "output_type": "stream",
     "text": [
      "The number of outlines in the candidate is less than the original (8 < 10)\n",
      "The number of outlines in the candidate is less than the original (2 < 10)\n",
      "The number of outlines in the candidate is less than the original (2 < 10)\n",
      "The number of outlines in the candidate is less than the original (2 < 10)\n"
     ]
    }
   ],
   "source": [
    "new_outlines_lst = content_improver.improve(original_outlines, depth=2, continous=True)"
   ]
  },
  {
   "cell_type": "code",
   "execution_count": 18,
   "metadata": {},
   "outputs": [
    {
     "data": {
      "text/plain": [
       "['The Huxley brothers, Jake and Ethan, accidentally discover an ancient gateway hidden within Ryhope Wood that transports them to a mysterious realm where myths come alive.',\n",
       " 'As they navigate through the realm, Jake and Ethan encounter a diverse array of mythical creatures that challenge not only their physical abilities but also their beliefs and values.',\n",
       " 'Each brother faces personal trials tailored to their strengths and weaknesses, pushing them to confront their inner demons and grow as individuals.',\n",
       " 'The line between reality and myth blurs as the brothers are tested by a series of unexpected events that shake their trust in each other and their understanding of the realm.',\n",
       " \"Uncovering a hidden conspiracy in Ryhope Wood, Jake and Ethan must race against time to unravel the truth behind the realm's existence and their role in its fate.\",\n",
       " \"A mysterious figure emerges as a potential ally, but their motives remain ambiguous, adding a layer of suspense and intrigue to the brothers' quest.\",\n",
       " 'The stakes escalate as Jake and Ethan delve deeper into the secrets of Ryhope Wood, facing betrayal and deception that threaten to tear them apart.',\n",
       " 'In a heart-stopping climax, the brothers are forced to make a life-changing decision that will determine not only their own destinies but also the fate of the realm and its inhabitants.',\n",
       " 'Through their journey, Jake and Ethan learn the importance of sacrifice, loyalty, and resilience, culminating in a powerful and emotionally resonant resolution in Ryhope Wood.',\n",
       " \"The unexpected twists and challenges they overcome solidify the Huxley brothers' legacy as heroes who dared to challenge the boundaries between reality and myth, leaving a lasting impact on the realm and its inhabitants.\"]"
      ]
     },
     "execution_count": 18,
     "metadata": {},
     "output_type": "execute_result"
    }
   ],
   "source": [
    "new_outlines_lst[0]"
   ]
  },
  {
   "cell_type": "code",
   "execution_count": 19,
   "metadata": {},
   "outputs": [
    {
     "data": {
      "text/plain": [
       "['Brothers Jake and Ethan discover an ancient gateway in Ryhope Wood, leading them to a mysterious realm where myths and legends come to life.',\n",
       " 'The realm challenges Jake and Ethan to face their deepest fears and insecurities, but also presents opportunities for growth and self-discovery as they interact with enigmatic mythical beings.',\n",
       " 'Each brother undergoes a personal journey of trials and tribulations that test their beliefs and values, pushing them to confront their inner demons and evolve as individuals.',\n",
       " 'The line between reality and fantasy blurs as Jake and Ethan encounter unexpected obstacles and adversaries that strain their bond and trust, adding layers of complexity to their relationship.',\n",
       " \"Unraveling a hidden conspiracy within Ryhope Wood becomes a race against time for Jake and Ethan, as they uncover shocking truths about the realm's origins and their intertwined destinies.\",\n",
       " 'A mysterious figure emerges as a potential ally, but their true motives remain cryptic, leading to doubt and suspicion that heighten the suspense and tension for the brothers.',\n",
       " 'Betrayal and deceit threaten to tear apart Jake and Ethan as they delve deeper into the mysteries of Ryhope Wood, testing their resilience and challenging their loyalty to each other.',\n",
       " 'The climax reaches a heart-wrenching turning point that forces Jake and Ethan to make a decision that will not only shape their own fates but also determine the future of the realm and its inhabitants.',\n",
       " 'Through sacrifice, courage, and unwavering determination, Jake and Ethan learn profound lessons that culminate in a cathartic and emotionally charged resolution within Ryhope Wood.',\n",
       " \"The legacy of the Huxley brothers as heroes who transcended reality and myth endures, leaving a lasting impact on the realm and its inhabitants, with unexpected twists and challenges cementing their place in the realm's legends.\"]"
      ]
     },
     "execution_count": 19,
     "metadata": {},
     "output_type": "execute_result"
    }
   ],
   "source": [
    "new_outlines_lst[1]"
   ]
  },
  {
   "cell_type": "code",
   "execution_count": null,
   "metadata": {},
   "outputs": [],
   "source": []
  }
 ],
 "metadata": {
  "kernelspec": {
   "display_name": "thoughtsculpt",
   "language": "python",
   "name": "python3"
  },
  "language_info": {
   "codemirror_mode": {
    "name": "ipython",
    "version": 3
   },
   "file_extension": ".py",
   "mimetype": "text/x-python",
   "name": "python",
   "nbconvert_exporter": "python",
   "pygments_lexer": "ipython3",
   "version": "3.10.4"
  }
 },
 "nbformat": 4,
 "nbformat_minor": 2
}
